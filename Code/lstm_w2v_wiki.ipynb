{
  "cells": [
    {
      "cell_type": "markdown",
      "metadata": {
        "id": "WcxNg25vVOHU"
      },
      "source": [
        "# Emotion recognition using NLP: Affective Computing 2023"
      ]
    },
    {
      "cell_type": "markdown",
      "metadata": {
        "id": "cr_jg22IVOHY"
      },
      "source": [
        "Danila Goncharenko, 2303788\n",
        "\n",
        "Ana Ferreira, 2308587\n",
        "\n",
        "Luca Hustiuc, 2209104"
      ]
    },
    {
      "cell_type": "code",
      "execution_count": null,
      "metadata": {
        "id": "1QdnqWj0VOHd"
      },
      "outputs": [],
      "source": [
        "%pip install tensorflow\n",
        "%pip install keras\n",
        "%pip install pandas\n",
        "%pip install sklearn\n",
        "%pip install numpy\n",
        "%pip install nltk"
      ]
    },
    {
      "cell_type": "markdown",
      "metadata": {
        "id": "b9UDoDpxVOHh"
      },
      "source": [
        "## 1. Import Data\n"
      ]
    },
    {
      "cell_type": "code",
      "execution_count": null,
      "metadata": {
        "id": "-GG9fYP8VOHh"
      },
      "outputs": [],
      "source": [
        "import pandas as pd\n",
        "import numpy as np\n",
        "\n",
        "# text preprocessing\n",
        "from nltk.tokenize import word_tokenize\n",
        "import re\n",
        "\n",
        "# plots and metrics\n",
        "import matplotlib.pyplot as plt\n",
        "from sklearn.metrics import accuracy_score, f1_score, confusion_matrix\n",
        "\n",
        "# preparing input to our model\n",
        "from keras.preprocessing.text import Tokenizer\n",
        "from keras.preprocessing.sequence import pad_sequences\n",
        "from keras.utils import to_categorical\n",
        "\n",
        "# keras layers\n",
        "from keras.models import Sequential\n",
        "from keras.layers import Embedding, Bidirectional, LSTM, GRU, Dense"
      ]
    },
    {
      "cell_type": "markdown",
      "metadata": {
        "id": "1erIc3REVOHi"
      },
      "source": [
        "Defining vector space dimension and fixed input size"
      ]
    },
    {
      "cell_type": "code",
      "execution_count": null,
      "metadata": {
        "id": "eM5DUBTqVOHj"
      },
      "outputs": [],
      "source": [
        "# Number of labels: joy, anger, fear, sadness, neutral\n",
        "num_classes = 7\n",
        "\n",
        "# Number of dimensions for word embedding\n",
        "embed_num_dims = 300\n",
        "\n",
        "# Max input length (max number of words)\n",
        "max_seq_len = 500\n",
        "\n",
        "class_names = ['joy', 'sadness', 'anger', 'fear', 'love', 'surprise', 'neutral']"
      ]
    },
    {
      "cell_type": "markdown",
      "metadata": {
        "id": "JhlFItXoVOHk"
      },
      "source": [
        "Importing our training and testing datasets"
      ]
    },
    {
      "cell_type": "code",
      "execution_count": null,
      "metadata": {
        "colab": {
          "base_uri": "https://localhost:8080/"
        },
        "id": "yognfcZ_VOHl",
        "outputId": "3a2b6f8b-885f-42e7-f790-e4247363529b"
      },
      "outputs": [
        {
          "output_type": "stream",
          "name": "stdout",
          "text": [
            "Size of the training set: 30084\n",
            "Size of the validation set: 7522\n",
            "sadness     6000\n",
            "surprise    6000\n",
            "love        6000\n",
            "joy         6000\n",
            "anger       6000\n",
            "fear        6000\n",
            "neutral     1606\n",
            "Name: emotions, dtype: int64\n"
          ]
        }
      ],
      "source": [
        "from sklearn.model_selection import train_test_split\n",
        "\n",
        "df = pd.read_pickle('/content/clean_data.pkl')\n",
        "\n",
        "# Initialize empty DataFrames to store the train and test data\n",
        "df_train = pd.DataFrame(columns=['text', 'emotions'])\n",
        "df_test = pd.DataFrame(columns=['text', 'emotions'])\n",
        "\n",
        "# Iterate over each class to split the data\n",
        "for emotion in class_names:\n",
        "    # Filter the data for the current class\n",
        "    class_data = df[df['emotions'] == emotion]\n",
        "\n",
        "    # Split the data into train and test for the current class\n",
        "    class_train, class_test = train_test_split(class_data, test_size=0.2, random_state=42)\n",
        "\n",
        "    # Take only 14,971 samples for the training set\n",
        "    class_train = class_train.head(15000)\n",
        "\n",
        "    # Append the split data to the overall train and test DataFrames\n",
        "    df_train = pd.concat([df_train, class_train])\n",
        "    df_test = pd.concat([df_test, class_test])\n",
        "\n",
        "# Shuffle the training and validation data\n",
        "df_train = df_train.sample(frac=1, random_state=42).reset_index(drop=True)\n",
        "df_test = df_test.sample(frac=1, random_state=42).reset_index(drop=True)\n",
        "\n",
        "# Separate features (X) and labels (y) for both sets\n",
        "X_train = df_train['text']\n",
        "X_test = df_test['text']\n",
        "y_train = df_train['emotions']\n",
        "y_test = df_test['emotions']\n",
        "\n",
        "# Print the size of the training and validation sets\n",
        "print('Size of the training set: %s' % len(X_train))\n",
        "print('Size of the validation set: %s' % len(X_test))\n",
        "\n",
        "data = pd.concat([df_train, df_test])\n",
        "print(data.emotions.value_counts())"
      ]
    },
    {
      "cell_type": "code",
      "execution_count": null,
      "metadata": {
        "colab": {
          "base_uri": "https://localhost:8080/",
          "height": 376
        },
        "id": "2QY1YM-QVOHm",
        "outputId": "51267bd3-efb9-468b-8821-8fd6092d9250"
      },
      "outputs": [
        {
          "output_type": "stream",
          "name": "stdout",
          "text": [
            "sadness     6000\n",
            "surprise    6000\n",
            "love        6000\n",
            "joy         6000\n",
            "anger       6000\n",
            "fear        6000\n",
            "neutral     1606\n",
            "Name: emotions, dtype: int64\n"
          ]
        },
        {
          "output_type": "execute_result",
          "data": {
            "text/plain": [
              "                                                text  emotions\n",
              "0   bullshit live end nothing bother ever depression   sadness\n",
              "1  i want you to grow up in a happy and cheerful ...   sadness\n",
              "2  i started the steroids on saturday and the wor...  surprise\n",
              "3  im feeling so blessed by tonights delicious th...      love\n",
              "4  i kept quiet feeling a little foolish that i h...   sadness\n",
              "5     im feeling a bit disillusioned with everything   sadness"
            ],
            "text/html": [
              "\n",
              "  <div id=\"df-47edbadb-6f6a-4b09-b24a-56ba4e900d08\" class=\"colab-df-container\">\n",
              "    <div>\n",
              "<style scoped>\n",
              "    .dataframe tbody tr th:only-of-type {\n",
              "        vertical-align: middle;\n",
              "    }\n",
              "\n",
              "    .dataframe tbody tr th {\n",
              "        vertical-align: top;\n",
              "    }\n",
              "\n",
              "    .dataframe thead th {\n",
              "        text-align: right;\n",
              "    }\n",
              "</style>\n",
              "<table border=\"1\" class=\"dataframe\">\n",
              "  <thead>\n",
              "    <tr style=\"text-align: right;\">\n",
              "      <th></th>\n",
              "      <th>text</th>\n",
              "      <th>emotions</th>\n",
              "    </tr>\n",
              "  </thead>\n",
              "  <tbody>\n",
              "    <tr>\n",
              "      <th>0</th>\n",
              "      <td>bullshit live end nothing bother ever depression</td>\n",
              "      <td>sadness</td>\n",
              "    </tr>\n",
              "    <tr>\n",
              "      <th>1</th>\n",
              "      <td>i want you to grow up in a happy and cheerful ...</td>\n",
              "      <td>sadness</td>\n",
              "    </tr>\n",
              "    <tr>\n",
              "      <th>2</th>\n",
              "      <td>i started the steroids on saturday and the wor...</td>\n",
              "      <td>surprise</td>\n",
              "    </tr>\n",
              "    <tr>\n",
              "      <th>3</th>\n",
              "      <td>im feeling so blessed by tonights delicious th...</td>\n",
              "      <td>love</td>\n",
              "    </tr>\n",
              "    <tr>\n",
              "      <th>4</th>\n",
              "      <td>i kept quiet feeling a little foolish that i h...</td>\n",
              "      <td>sadness</td>\n",
              "    </tr>\n",
              "    <tr>\n",
              "      <th>5</th>\n",
              "      <td>im feeling a bit disillusioned with everything</td>\n",
              "      <td>sadness</td>\n",
              "    </tr>\n",
              "  </tbody>\n",
              "</table>\n",
              "</div>\n",
              "    <div class=\"colab-df-buttons\">\n",
              "\n",
              "  <div class=\"colab-df-container\">\n",
              "    <button class=\"colab-df-convert\" onclick=\"convertToInteractive('df-47edbadb-6f6a-4b09-b24a-56ba4e900d08')\"\n",
              "            title=\"Convert this dataframe to an interactive table.\"\n",
              "            style=\"display:none;\">\n",
              "\n",
              "  <svg xmlns=\"http://www.w3.org/2000/svg\" height=\"24px\" viewBox=\"0 -960 960 960\">\n",
              "    <path d=\"M120-120v-720h720v720H120Zm60-500h600v-160H180v160Zm220 220h160v-160H400v160Zm0 220h160v-160H400v160ZM180-400h160v-160H180v160Zm440 0h160v-160H620v160ZM180-180h160v-160H180v160Zm440 0h160v-160H620v160Z\"/>\n",
              "  </svg>\n",
              "    </button>\n",
              "\n",
              "  <style>\n",
              "    .colab-df-container {\n",
              "      display:flex;\n",
              "      gap: 12px;\n",
              "    }\n",
              "\n",
              "    .colab-df-convert {\n",
              "      background-color: #E8F0FE;\n",
              "      border: none;\n",
              "      border-radius: 50%;\n",
              "      cursor: pointer;\n",
              "      display: none;\n",
              "      fill: #1967D2;\n",
              "      height: 32px;\n",
              "      padding: 0 0 0 0;\n",
              "      width: 32px;\n",
              "    }\n",
              "\n",
              "    .colab-df-convert:hover {\n",
              "      background-color: #E2EBFA;\n",
              "      box-shadow: 0px 1px 2px rgba(60, 64, 67, 0.3), 0px 1px 3px 1px rgba(60, 64, 67, 0.15);\n",
              "      fill: #174EA6;\n",
              "    }\n",
              "\n",
              "    .colab-df-buttons div {\n",
              "      margin-bottom: 4px;\n",
              "    }\n",
              "\n",
              "    [theme=dark] .colab-df-convert {\n",
              "      background-color: #3B4455;\n",
              "      fill: #D2E3FC;\n",
              "    }\n",
              "\n",
              "    [theme=dark] .colab-df-convert:hover {\n",
              "      background-color: #434B5C;\n",
              "      box-shadow: 0px 1px 3px 1px rgba(0, 0, 0, 0.15);\n",
              "      filter: drop-shadow(0px 1px 2px rgba(0, 0, 0, 0.3));\n",
              "      fill: #FFFFFF;\n",
              "    }\n",
              "  </style>\n",
              "\n",
              "    <script>\n",
              "      const buttonEl =\n",
              "        document.querySelector('#df-47edbadb-6f6a-4b09-b24a-56ba4e900d08 button.colab-df-convert');\n",
              "      buttonEl.style.display =\n",
              "        google.colab.kernel.accessAllowed ? 'block' : 'none';\n",
              "\n",
              "      async function convertToInteractive(key) {\n",
              "        const element = document.querySelector('#df-47edbadb-6f6a-4b09-b24a-56ba4e900d08');\n",
              "        const dataTable =\n",
              "          await google.colab.kernel.invokeFunction('convertToInteractive',\n",
              "                                                    [key], {});\n",
              "        if (!dataTable) return;\n",
              "\n",
              "        const docLinkHtml = 'Like what you see? Visit the ' +\n",
              "          '<a target=\"_blank\" href=https://colab.research.google.com/notebooks/data_table.ipynb>data table notebook</a>'\n",
              "          + ' to learn more about interactive tables.';\n",
              "        element.innerHTML = '';\n",
              "        dataTable['output_type'] = 'display_data';\n",
              "        await google.colab.output.renderOutput(dataTable, element);\n",
              "        const docLink = document.createElement('div');\n",
              "        docLink.innerHTML = docLinkHtml;\n",
              "        element.appendChild(docLink);\n",
              "      }\n",
              "    </script>\n",
              "  </div>\n",
              "\n",
              "\n",
              "<div id=\"df-d6f369d2-4cad-4b33-8ab7-abe36c203344\">\n",
              "  <button class=\"colab-df-quickchart\" onclick=\"quickchart('df-d6f369d2-4cad-4b33-8ab7-abe36c203344')\"\n",
              "            title=\"Suggest charts.\"\n",
              "            style=\"display:none;\">\n",
              "\n",
              "<svg xmlns=\"http://www.w3.org/2000/svg\" height=\"24px\"viewBox=\"0 0 24 24\"\n",
              "     width=\"24px\">\n",
              "    <g>\n",
              "        <path d=\"M19 3H5c-1.1 0-2 .9-2 2v14c0 1.1.9 2 2 2h14c1.1 0 2-.9 2-2V5c0-1.1-.9-2-2-2zM9 17H7v-7h2v7zm4 0h-2V7h2v10zm4 0h-2v-4h2v4z\"/>\n",
              "    </g>\n",
              "</svg>\n",
              "  </button>\n",
              "\n",
              "<style>\n",
              "  .colab-df-quickchart {\n",
              "      --bg-color: #E8F0FE;\n",
              "      --fill-color: #1967D2;\n",
              "      --hover-bg-color: #E2EBFA;\n",
              "      --hover-fill-color: #174EA6;\n",
              "      --disabled-fill-color: #AAA;\n",
              "      --disabled-bg-color: #DDD;\n",
              "  }\n",
              "\n",
              "  [theme=dark] .colab-df-quickchart {\n",
              "      --bg-color: #3B4455;\n",
              "      --fill-color: #D2E3FC;\n",
              "      --hover-bg-color: #434B5C;\n",
              "      --hover-fill-color: #FFFFFF;\n",
              "      --disabled-bg-color: #3B4455;\n",
              "      --disabled-fill-color: #666;\n",
              "  }\n",
              "\n",
              "  .colab-df-quickchart {\n",
              "    background-color: var(--bg-color);\n",
              "    border: none;\n",
              "    border-radius: 50%;\n",
              "    cursor: pointer;\n",
              "    display: none;\n",
              "    fill: var(--fill-color);\n",
              "    height: 32px;\n",
              "    padding: 0;\n",
              "    width: 32px;\n",
              "  }\n",
              "\n",
              "  .colab-df-quickchart:hover {\n",
              "    background-color: var(--hover-bg-color);\n",
              "    box-shadow: 0 1px 2px rgba(60, 64, 67, 0.3), 0 1px 3px 1px rgba(60, 64, 67, 0.15);\n",
              "    fill: var(--button-hover-fill-color);\n",
              "  }\n",
              "\n",
              "  .colab-df-quickchart-complete:disabled,\n",
              "  .colab-df-quickchart-complete:disabled:hover {\n",
              "    background-color: var(--disabled-bg-color);\n",
              "    fill: var(--disabled-fill-color);\n",
              "    box-shadow: none;\n",
              "  }\n",
              "\n",
              "  .colab-df-spinner {\n",
              "    border: 2px solid var(--fill-color);\n",
              "    border-color: transparent;\n",
              "    border-bottom-color: var(--fill-color);\n",
              "    animation:\n",
              "      spin 1s steps(1) infinite;\n",
              "  }\n",
              "\n",
              "  @keyframes spin {\n",
              "    0% {\n",
              "      border-color: transparent;\n",
              "      border-bottom-color: var(--fill-color);\n",
              "      border-left-color: var(--fill-color);\n",
              "    }\n",
              "    20% {\n",
              "      border-color: transparent;\n",
              "      border-left-color: var(--fill-color);\n",
              "      border-top-color: var(--fill-color);\n",
              "    }\n",
              "    30% {\n",
              "      border-color: transparent;\n",
              "      border-left-color: var(--fill-color);\n",
              "      border-top-color: var(--fill-color);\n",
              "      border-right-color: var(--fill-color);\n",
              "    }\n",
              "    40% {\n",
              "      border-color: transparent;\n",
              "      border-right-color: var(--fill-color);\n",
              "      border-top-color: var(--fill-color);\n",
              "    }\n",
              "    60% {\n",
              "      border-color: transparent;\n",
              "      border-right-color: var(--fill-color);\n",
              "    }\n",
              "    80% {\n",
              "      border-color: transparent;\n",
              "      border-right-color: var(--fill-color);\n",
              "      border-bottom-color: var(--fill-color);\n",
              "    }\n",
              "    90% {\n",
              "      border-color: transparent;\n",
              "      border-bottom-color: var(--fill-color);\n",
              "    }\n",
              "  }\n",
              "</style>\n",
              "\n",
              "  <script>\n",
              "    async function quickchart(key) {\n",
              "      const quickchartButtonEl =\n",
              "        document.querySelector('#' + key + ' button');\n",
              "      quickchartButtonEl.disabled = true;  // To prevent multiple clicks.\n",
              "      quickchartButtonEl.classList.add('colab-df-spinner');\n",
              "      try {\n",
              "        const charts = await google.colab.kernel.invokeFunction(\n",
              "            'suggestCharts', [key], {});\n",
              "      } catch (error) {\n",
              "        console.error('Error during call to suggestCharts:', error);\n",
              "      }\n",
              "      quickchartButtonEl.classList.remove('colab-df-spinner');\n",
              "      quickchartButtonEl.classList.add('colab-df-quickchart-complete');\n",
              "    }\n",
              "    (() => {\n",
              "      let quickchartButtonEl =\n",
              "        document.querySelector('#df-d6f369d2-4cad-4b33-8ab7-abe36c203344 button');\n",
              "      quickchartButtonEl.style.display =\n",
              "        google.colab.kernel.accessAllowed ? 'block' : 'none';\n",
              "    })();\n",
              "  </script>\n",
              "</div>\n",
              "    </div>\n",
              "  </div>\n"
            ]
          },
          "metadata": {},
          "execution_count": 5
        }
      ],
      "source": [
        "print(data.emotions.value_counts())\n",
        "data.head(6)"
      ]
    },
    {
      "cell_type": "markdown",
      "metadata": {
        "id": "JTtAzy2sVOHn"
      },
      "source": [
        "## 2. Prepare input data"
      ]
    },
    {
      "cell_type": "code",
      "execution_count": null,
      "metadata": {
        "colab": {
          "base_uri": "https://localhost:8080/"
        },
        "id": "cu0k0mGSVOHo",
        "outputId": "85bbad5a-ceef-464d-e969-11bd2765ecc6"
      },
      "outputs": [
        {
          "output_type": "stream",
          "name": "stderr",
          "text": [
            "[nltk_data] Downloading package punkt to /root/nltk_data...\n",
            "[nltk_data]   Unzipping tokenizers/punkt.zip.\n"
          ]
        }
      ],
      "source": [
        "import nltk\n",
        "nltk.download('punkt')\n",
        "\n",
        "def clean_text(data):\n",
        "\n",
        "    # tekenization using nltk\n",
        "    data = word_tokenize(data)\n",
        "\n",
        "    return data"
      ]
    },
    {
      "cell_type": "code",
      "execution_count": null,
      "metadata": {
        "id": "q_QtsHzPVOHp"
      },
      "outputs": [],
      "source": [
        "texts = [' '.join(clean_text(text)) for text in data.text]\n",
        "\n",
        "texts_train = [' '.join(clean_text(text)) for text in X_train]\n",
        "texts_test = [' '.join(clean_text(text)) for text in X_test]"
      ]
    },
    {
      "cell_type": "code",
      "execution_count": null,
      "metadata": {
        "colab": {
          "base_uri": "https://localhost:8080/"
        },
        "id": "NTd1VDu-VOHq",
        "outputId": "a958ac55-755f-4ce5-ac0e-c98be2da154d"
      },
      "outputs": [
        {
          "output_type": "stream",
          "name": "stdout",
          "text": [
            "i then feel overwhelmed and helpless and start looking to others to help pull me out\n"
          ]
        }
      ],
      "source": [
        "print(texts_train[92])"
      ]
    },
    {
      "cell_type": "markdown",
      "metadata": {
        "id": "56qPAJ6eVOHr"
      },
      "source": [
        "Tokenization"
      ]
    },
    {
      "cell_type": "code",
      "execution_count": null,
      "metadata": {
        "colab": {
          "base_uri": "https://localhost:8080/"
        },
        "id": "3knUlN7oVOHr",
        "outputId": "531d433f-3513-4d8d-b6df-28c69e522e2c"
      },
      "outputs": [
        {
          "output_type": "stream",
          "name": "stdout",
          "text": [
            "Number of unique words: 24921\n"
          ]
        }
      ],
      "source": [
        "tokenizer = Tokenizer()\n",
        "tokenizer.fit_on_texts(texts)\n",
        "\n",
        "sequence_train = tokenizer.texts_to_sequences(texts_train)\n",
        "sequence_test = tokenizer.texts_to_sequences(texts_test)\n",
        "\n",
        "index_of_words = tokenizer.word_index\n",
        "\n",
        "# vacab size is number of unique words + reserved 0 index for padding\n",
        "vocab_size = len(index_of_words) + 1\n",
        "\n",
        "print('Number of unique words: {}'.format(len(index_of_words)))"
      ]
    },
    {
      "cell_type": "code",
      "execution_count": null,
      "metadata": {
        "colab": {
          "base_uri": "https://localhost:8080/"
        },
        "id": "Qp8xxGU4VOHs",
        "outputId": "ef5c68ed-7910-4f94-e5a8-3e942d23a652"
      },
      "outputs": [
        {
          "output_type": "execute_result",
          "data": {
            "text/plain": [
              "array([[   0,    0,    0, ..., 1979,  199, 1100],\n",
              "       [   0,    0,    0, ..., 1346,  642, 7171],\n",
              "       [   0,    0,    0, ...,    3,   10,  406],\n",
              "       ...,\n",
              "       [   0,    0,    0, ...,  326,   16,    9],\n",
              "       [   0,    0,    0, ..., 1984, 4326, 6377],\n",
              "       [   0,    0,    0, ...,  105,   42,  286]], dtype=int32)"
            ]
          },
          "metadata": {},
          "execution_count": 12
        }
      ],
      "source": [
        "X_train_pad = pad_sequences(sequence_train, maxlen = max_seq_len )\n",
        "X_test_pad = pad_sequences(sequence_test, maxlen = max_seq_len )\n",
        "\n",
        "X_train_pad"
      ]
    },
    {
      "cell_type": "markdown",
      "metadata": {
        "id": "PWBl3YGsVOHt"
      },
      "source": [
        "Categorize labels:"
      ]
    },
    {
      "cell_type": "code",
      "execution_count": null,
      "metadata": {
        "id": "mXvXEtbJVOHu"
      },
      "outputs": [],
      "source": [
        "encoding = {\n",
        "    'joy': 0,\n",
        "    'sadness': 1,\n",
        "    'anger': 2,\n",
        "    'fear': 3,\n",
        "    'love': 4,\n",
        "    'surprise': 5,\n",
        "    'neutral': 6\n",
        "}\n",
        "\n",
        "# Integer labels\n",
        "y_train = [encoding[x] for x in df_train.emotions]\n",
        "y_test = [encoding[x] for x in df_test.emotions]"
      ]
    },
    {
      "cell_type": "code",
      "execution_count": null,
      "metadata": {
        "colab": {
          "base_uri": "https://localhost:8080/"
        },
        "id": "FoCBPOcBVOHu",
        "outputId": "59b47ba7-8cdf-42ac-9a0d-43369892c66b"
      },
      "outputs": [
        {
          "output_type": "execute_result",
          "data": {
            "text/plain": [
              "array([[0., 1., 0., ..., 0., 0., 0.],\n",
              "       [0., 1., 0., ..., 0., 0., 0.],\n",
              "       [0., 0., 0., ..., 0., 1., 0.],\n",
              "       ...,\n",
              "       [1., 0., 0., ..., 0., 0., 0.],\n",
              "       [0., 0., 0., ..., 0., 0., 0.],\n",
              "       [0., 0., 0., ..., 1., 0., 0.]], dtype=float32)"
            ]
          },
          "metadata": {},
          "execution_count": 14
        }
      ],
      "source": [
        "y_train = to_categorical(y_train)\n",
        "y_test = to_categorical(y_test)\n",
        "\n",
        "y_train"
      ]
    },
    {
      "cell_type": "markdown",
      "metadata": {
        "id": "HDEiPAwjVOHv"
      },
      "source": [
        "## 2. Import pretrained word vectors"
      ]
    },
    {
      "cell_type": "code",
      "execution_count": null,
      "metadata": {
        "id": "yhudqyISVOHw"
      },
      "outputs": [],
      "source": [
        "def create_embedding_matrix(filepath, word_index, embedding_dim):\n",
        "    vocab_size = len(word_index) + 1  # Adding again 1 because of reserved 0 index\n",
        "    embedding_matrix = np.zeros((vocab_size, embedding_dim))\n",
        "    with open(filepath, encoding='utf-8') as f:\n",
        "        for line in f:\n",
        "            word, *vector = line.split()\n",
        "            if word in word_index:\n",
        "                idx = word_index[word]\n",
        "                embedding_matrix[idx] = np.array(\n",
        "                    vector, dtype=np.float32)[:embedding_dim]\n",
        "    return embedding_matrix"
      ]
    },
    {
      "cell_type": "code",
      "execution_count": null,
      "metadata": {
        "colab": {
          "base_uri": "https://localhost:8080/"
        },
        "id": "lrZ5cBthVOHx",
        "outputId": "f3f9207b-d723-4c4e-dabe-4e50ffb17e6e"
      },
      "outputs": [
        {
          "output_type": "stream",
          "name": "stdout",
          "text": [
            "Downloading word vectors...\n",
            "Unzipping...\n",
            "done.\n"
          ]
        }
      ],
      "source": [
        "import urllib.request\n",
        "import zipfile\n",
        "import os\n",
        "\n",
        "fname = 'embeddings/wiki-news-300d-1M.vec'\n",
        "\n",
        "if not os.path.isfile(fname):\n",
        "    print('Downloading word vectors...')\n",
        "    urllib.request.urlretrieve('https://dl.fbaipublicfiles.com/fasttext/vectors-english/wiki-news-300d-1M.vec.zip',\n",
        "                              'wiki-news-300d-1M.vec.zip')\n",
        "    print('Unzipping...')\n",
        "    with zipfile.ZipFile('wiki-news-300d-1M.vec.zip', 'r') as zip_ref:\n",
        "        zip_ref.extractall('embeddings')\n",
        "    print('done.')\n",
        "\n",
        "    os.remove('wiki-news-300d-1M.vec.zip')"
      ]
    },
    {
      "cell_type": "code",
      "execution_count": null,
      "metadata": {
        "colab": {
          "base_uri": "https://localhost:8080/"
        },
        "id": "9j9Rui-bVOHy",
        "outputId": "6e2b2345-3690-4d42-bca6-94d96af6ab25"
      },
      "outputs": [
        {
          "output_type": "execute_result",
          "data": {
            "text/plain": [
              "(24922, 300)"
            ]
          },
          "metadata": {},
          "execution_count": 17
        }
      ],
      "source": [
        "embedd_matrix = create_embedding_matrix(fname, index_of_words, embed_num_dims)\n",
        "embedd_matrix.shape"
      ]
    },
    {
      "cell_type": "code",
      "execution_count": null,
      "metadata": {
        "scrolled": true,
        "colab": {
          "base_uri": "https://localhost:8080/"
        },
        "id": "3bJ2UbbnVOHz",
        "outputId": "15a4f75d-9312-4a57-ad0c-db36dc218ee8"
      },
      "outputs": [
        {
          "output_type": "stream",
          "name": "stdout",
          "text": [
            "Words found in wiki vocab: 21885\n",
            "New words found: 3036\n"
          ]
        }
      ],
      "source": [
        "# Inspect unseen words\n",
        "new_words = 0\n",
        "\n",
        "for word in index_of_words:\n",
        "    entry = embedd_matrix[index_of_words[word]]\n",
        "    if all(v == 0 for v in entry):\n",
        "        new_words = new_words + 1\n",
        "\n",
        "print('Words found in wiki vocab: ' + str(len(index_of_words) - new_words))\n",
        "print('New words found: ' + str(new_words))"
      ]
    },
    {
      "cell_type": "markdown",
      "metadata": {
        "id": "kox2ee9OVOH0"
      },
      "source": [
        "## 3. Create LSTM Pipeline"
      ]
    },
    {
      "cell_type": "code",
      "execution_count": null,
      "metadata": {
        "id": "pjutZvHtVOH1"
      },
      "outputs": [],
      "source": [
        "# Embedding layer before the actaul BLSTM\n",
        "embedd_layer = Embedding(vocab_size,\n",
        "                         embed_num_dims,\n",
        "                         input_length = max_seq_len,\n",
        "                         weights = [embedd_matrix],\n",
        "                         trainable=False)"
      ]
    },
    {
      "cell_type": "code",
      "execution_count": null,
      "metadata": {
        "id": "7BPGNUW9VOH2"
      },
      "outputs": [],
      "source": [
        "# Parameters\n",
        "gru_output_size = 128\n",
        "bidirectional = True\n",
        "\n",
        "# Embedding Layer, LSTM or biLSTM, Dense, softmax\n",
        "model = Sequential()\n",
        "model.add(embedd_layer)\n",
        "\n",
        "if bidirectional:\n",
        "    model.add(Bidirectional(GRU(units=gru_output_size,\n",
        "                              dropout=0.2,\n",
        "                              recurrent_dropout=0.2)))\n",
        "else:\n",
        "     model.add(GRU(units=gru_output_size,\n",
        "                dropout=0.2,\n",
        "                recurrent_dropout=0.2))\n",
        "\n",
        "model.add(Dense(num_classes, activation='softmax'))"
      ]
    },
    {
      "cell_type": "code",
      "execution_count": null,
      "metadata": {
        "colab": {
          "base_uri": "https://localhost:8080/"
        },
        "id": "Nubmk38LVOIP",
        "outputId": "7d9f2560-4546-4314-c2bc-4e5190b2cce5"
      },
      "outputs": [
        {
          "output_type": "stream",
          "name": "stdout",
          "text": [
            "Model: \"sequential\"\n",
            "_________________________________________________________________\n",
            " Layer (type)                Output Shape              Param #   \n",
            "=================================================================\n",
            " embedding (Embedding)       (None, 500, 300)          7476600   \n",
            "                                                                 \n",
            " bidirectional (Bidirection  (None, 256)               330240    \n",
            " al)                                                             \n",
            "                                                                 \n",
            " dense (Dense)               (None, 7)                 1799      \n",
            "                                                                 \n",
            "=================================================================\n",
            "Total params: 7808639 (29.79 MB)\n",
            "Trainable params: 332039 (1.27 MB)\n",
            "Non-trainable params: 7476600 (28.52 MB)\n",
            "_________________________________________________________________\n"
          ]
        }
      ],
      "source": [
        "model.compile(loss = 'categorical_crossentropy', optimizer = 'adam', metrics = ['accuracy'])\n",
        "model.summary()"
      ]
    },
    {
      "cell_type": "markdown",
      "metadata": {
        "id": "FpFTkyw9VOIQ"
      },
      "source": [
        "## 3. Train the Model"
      ]
    },
    {
      "cell_type": "code",
      "execution_count": null,
      "metadata": {
        "colab": {
          "base_uri": "https://localhost:8080/"
        },
        "id": "5gN4cEJwVOIQ",
        "outputId": "850cbaf1-9714-4904-f7e4-dc08993bd360"
      },
      "outputs": [
        {
          "output_type": "stream",
          "name": "stdout",
          "text": [
            "Epoch 1/5\n",
            "236/236 [==============================] - 1181s 5s/step - loss: 1.2936 - accuracy: 0.5085 - val_loss: 0.6536 - val_accuracy: 0.7857\n",
            "Epoch 2/5\n",
            "236/236 [==============================] - 1180s 5s/step - loss: 0.4969 - accuracy: 0.8304 - val_loss: 0.3516 - val_accuracy: 0.8846\n",
            "Epoch 3/5\n",
            "236/236 [==============================] - 1220s 5s/step - loss: 0.3404 - accuracy: 0.8833 - val_loss: 0.2846 - val_accuracy: 0.8998\n",
            "Epoch 4/5\n",
            "236/236 [==============================] - 1234s 5s/step - loss: 0.2850 - accuracy: 0.9022 - val_loss: 0.2504 - val_accuracy: 0.9173\n",
            "Epoch 5/5\n",
            "236/236 [==============================] - 1168s 5s/step - loss: 0.2514 - accuracy: 0.9134 - val_loss: 0.2299 - val_accuracy: 0.9220\n"
          ]
        }
      ],
      "source": [
        "batch_size = 128\n",
        "epochs = 5\n",
        "\n",
        "hist = model.fit(X_train_pad, y_train,\n",
        "                 batch_size=batch_size,\n",
        "                 epochs=epochs,\n",
        "                 validation_data=(X_test_pad,y_test))"
      ]
    },
    {
      "cell_type": "code",
      "execution_count": null,
      "metadata": {
        "colab": {
          "base_uri": "https://localhost:8080/",
          "height": 927
        },
        "id": "krPln8HkVOIR",
        "outputId": "5e4d97f8-66ee-4926-e692-b7d99982fec9"
      },
      "outputs": [
        {
          "output_type": "display_data",
          "data": {
            "text/plain": [
              "<Figure size 640x480 with 1 Axes>"
            ],
            "image/png": "[encoded data removed]"
          },
          "metadata": {}
        },
        {
          "output_type": "display_data",
          "data": {
            "text/plain": [
              "<Figure size 640x480 with 1 Axes>"
            ],
            "image/png": "[encoded data removed]"
          },
          "metadata": {}
        }
      ],
      "source": [
        "#  \"Accuracy\"\n",
        "plt.plot(hist.history['accuracy'])\n",
        "plt.plot(hist.history['val_accuracy'])\n",
        "plt.title('model accuracy')\n",
        "plt.ylabel('accuracy')\n",
        "plt.xlabel('epoch')\n",
        "plt.legend(['train', 'validation'], loc='upper left')\n",
        "plt.show()\n",
        "\n",
        "# \"Loss\"\n",
        "plt.plot(hist.history['loss'])\n",
        "plt.plot(hist.history['val_loss'])\n",
        "plt.title('model loss')\n",
        "plt.ylabel('loss')\n",
        "plt.xlabel('epoch')\n",
        "plt.legend(['train', 'validation'], loc='upper left')\n",
        "plt.show()"
      ]
    },
    {
      "cell_type": "markdown",
      "metadata": {
        "id": "dx9Zjbe2VOIR"
      },
      "source": [
        "## 4. Evaluation"
      ]
    },
    {
      "cell_type": "code",
      "execution_count": null,
      "metadata": {
        "colab": {
          "base_uri": "https://localhost:8080/"
        },
        "id": "8Yk3RRPWVOIR",
        "outputId": "f4a5c827-1840-4343-f6d8-59eb73e39ea9"
      },
      "outputs": [
        {
          "output_type": "stream",
          "name": "stdout",
          "text": [
            "236/236 [==============================] - 56s 233ms/step\n"
          ]
        }
      ],
      "source": [
        "predictions = model.predict(X_test_pad)\n",
        "predictions = np.argmax(predictions, axis=1)\n",
        "predictions = [class_names[pred] for pred in predictions]"
      ]
    },
    {
      "cell_type": "code",
      "execution_count": null,
      "metadata": {
        "colab": {
          "base_uri": "https://localhost:8080/"
        },
        "id": "KQn6TI83VOIS",
        "outputId": "683f0d14-be0f-41d5-9c61-360da4887f2b"
      },
      "outputs": [
        {
          "output_type": "stream",
          "name": "stdout",
          "text": [
            "Accuracy: 92.20%\n",
            "\n",
            "F1 Score: 92.20\n"
          ]
        }
      ],
      "source": [
        "print(\"Accuracy: {:.2f}%\".format(accuracy_score(df_test.emotions, predictions) * 100))\n",
        "print(\"\\nF1 Score: {:.2f}\".format(f1_score(df_test.emotions, predictions, average='micro') * 100))"
      ]
    },
    {
      "cell_type": "markdown",
      "metadata": {
        "id": "BQpWddZiVOIS"
      },
      "source": [
        "#### Plotting confusion Matrix:"
      ]
    },
    {
      "cell_type": "code",
      "execution_count": null,
      "metadata": {
        "colab": {
          "base_uri": "https://localhost:8080/",
          "height": 578
        },
        "id": "unyC2VJVVOIS",
        "outputId": "d315e4ff-4b7f-4caa-804e-5e9e91d90a3a"
      },
      "outputs": [
        {
          "output_type": "display_data",
          "data": {
            "text/plain": [
              "<Figure size 800x600 with 2 Axes>"
            ],
            "image/png": "[encoded data removed]"
          },
          "metadata": {}
        }
      ],
      "source": [
        "import seaborn as sns\n",
        "\n",
        "# Compute the confusion matrix\n",
        "confusion = confusion_matrix(df_test.emotions, predictions)\n",
        "\n",
        "# Normalize the confusion matrix as percentages\n",
        "confusion_percent = confusion.astype('float') / confusion.sum(axis=1)[:, np.newaxis]\n",
        "\n",
        "# Create a heatmap to visualize the confusion matrix as percentages\n",
        "plt.figure(figsize=(8, 6))\n",
        "sns.set(font_scale=1.2)\n",
        "sns.heatmap(confusion_percent, annot=True, cmap=\"Blues\", xticklabels=class_names, yticklabels=class_names, fmt=\".1%\")\n",
        "plt.xlabel('Predicted')\n",
        "plt.ylabel('Actual')\n",
        "plt.title('Normalized Confusion Matrix (Percentages)')\n",
        "plt.show()"
      ]
    },
    {
      "cell_type": "markdown",
      "metadata": {
        "id": "Z7GuXD1YVOIT"
      },
      "source": [
        "#### Lets try other inputs:"
      ]
    },
    {
      "cell_type": "code",
      "execution_count": null,
      "metadata": {
        "colab": {
          "base_uri": "https://localhost:8080/"
        },
        "id": "2DPDt81dVOIT",
        "outputId": "3f056d12-b1e7-451f-fa58-1f7d1c0f303b"
      },
      "outputs": [
        {
          "output_type": "stream",
          "name": "stdout",
          "text": [
            "Message: look lyft ride fifty dollars free w lyft code cleo mk mirthful lovetosavemoney\n",
            "Predicted: joy\n"
          ]
        }
      ],
      "source": [
        "print('Message: {}\\nPredicted: {}'.format(X_test[4], predictions[4]))"
      ]
    },
    {
      "cell_type": "code",
      "execution_count": null,
      "metadata": {
        "colab": {
          "base_uri": "https://localhost:8080/"
        },
        "id": "RrSUTVnLVOIT",
        "outputId": "3bfaad48-96db-4e0e-9857-f965bf21910d"
      },
      "outputs": [
        {
          "output_type": "stream",
          "name": "stdout",
          "text": [
            "1/1 [==============================] - 0s 86ms/step\n",
            "Message: ['delivery was hour late and my pizza was cold!']\n",
            "predicted: anger (0.12 seconds)\n"
          ]
        }
      ],
      "source": [
        "import time\n",
        "\n",
        "message = ['delivery was hour late and my pizza was cold!']\n",
        "\n",
        "seq = tokenizer.texts_to_sequences(message)\n",
        "padded = pad_sequences(seq, maxlen=max_seq_len)\n",
        "\n",
        "start_time = time.time()\n",
        "pred = model.predict(padded)\n",
        "\n",
        "print('Message: ' + str(message))\n",
        "print('predicted: {} ({:.2f} seconds)'.format(class_names[np.argmax(pred)], (time.time() - start_time)))"
      ]
    },
    {
      "cell_type": "markdown",
      "metadata": {
        "id": "1k3En0-8VOIU"
      },
      "source": [
        "# Save model"
      ]
    },
    {
      "cell_type": "code",
      "execution_count": null,
      "metadata": {
        "colab": {
          "base_uri": "https://localhost:8080/"
        },
        "id": "yJexIKRdVOIU",
        "outputId": "857d7a5b-040a-4fa7-8524-6a28cfc52691"
      },
      "outputs": [
        {
          "output_type": "stream",
          "name": "stderr",
          "text": [
            "/usr/local/lib/python3.10/dist-packages/keras/src/engine/training.py:3079: UserWarning: You are saving your model as an HDF5 file via `model.save()`. This file format is considered legacy. We recommend using instead the native Keras format, e.g. `model.save('my_model.keras')`.\n",
            "  saving_api.save_model(\n"
          ]
        }
      ],
      "source": [
        "# creates a HDF5 file 'my_model.h5'\n",
        "model.save('models/biLSTM_w2v.h5')"
      ]
    },
    {
      "cell_type": "code",
      "execution_count": null,
      "metadata": {
        "id": "sYb2uOzuVOIU"
      },
      "outputs": [],
      "source": [
        "from keras.models import load_model\n",
        "predictor = load_model('models/biLSTM_w2v.h5')"
      ]
    }
  ],
  "metadata": {
    "kernelspec": {
      "display_name": "Python 3",
      "language": "python",
      "name": "python3"
    },
    "language_info": {
      "codemirror_mode": {
        "name": "ipython",
        "version": 3
      },
      "file_extension": ".py",
      "mimetype": "text/x-python",
      "name": "python",
      "nbconvert_exporter": "python",
      "pygments_lexer": "ipython3",
      "version": "3.10.11"
    },
    "colab": {
      "provenance": []
    }
  },
  "nbformat": 4,
  "nbformat_minor": 0
}
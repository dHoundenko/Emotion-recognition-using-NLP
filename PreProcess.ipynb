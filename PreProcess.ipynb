{
 "cells": [
  {
   "cell_type": "markdown",
   "id": "d4ff73af-ea1a-4ed6-b771-68ef756db020",
   "metadata": {},
   "source": [
    "First, I will start to process the files in EmotionsDatasetForNLP"
   ]
  },
  {
   "cell_type": "markdown",
   "id": "5730da95-4f13-4d69-a2cc-18cd16135170",
   "metadata": {},
   "source": [
    "Pre-processing of train.txt"
   ]
  },
  {
   "cell_type": "code",
   "execution_count": 1,
   "id": "b787ee94-17ee-4b4a-9195-1502fe2975e6",
   "metadata": {},
   "outputs": [
    {
     "name": "stdout",
     "output_type": "stream",
     "text": [
      "sadness\n",
      "anger\n",
      "love\n",
      "surprise\n",
      "fear\n",
      "joy\n"
     ]
    }
   ],
   "source": [
    "# Initialize an empty dictionary to store the data\n",
    "train_dict = {}\n",
    "\n",
    "# Open the file for reading\n",
    "with open('EmotionsDatasetForNLP/train.txt', 'r') as file:\n",
    "    # Iterate through each line in the file\n",
    "    for line in file:\n",
    "        # Split the line into text and emotion using the semicolon as the delimiter\n",
    "        parts = line.strip().split(';')\n",
    "        \n",
    "        # Check if the line has both text and emotion (not an empty line)\n",
    "        if len(parts) == 2:\n",
    "            text, emotion = parts[0], parts[1]\n",
    "            # Store the data in the dictionary\n",
    "            train_dict[emotion] = text\n",
    "\n",
    "for key in train_dict:\n",
    "    print(key)"
   ]
  },
  {
   "cell_type": "markdown",
   "id": "ba825738-16dd-48c2-87bf-48812fc26ce8",
   "metadata": {},
   "source": [
    "Pre-processing of val.txt"
   ]
  },
  {
   "cell_type": "code",
   "execution_count": 3,
   "id": "119e7eb5-588c-4617-98d0-206c7c93de40",
   "metadata": {},
   "outputs": [
    {
     "name": "stdout",
     "output_type": "stream",
     "text": [
      "sadness i know a lot but i feel so stupid because i can not portray it\n",
      "anger i feel like this was such a rude comment and im glad that t\n",
      "love i feel so sympathetic empathetic towards them\n",
      "sadness\n",
      "love\n",
      "anger\n",
      "joy\n",
      "fear\n",
      "surprise\n"
     ]
    }
   ],
   "source": [
    "# Initialize an empty dictionary to store the data\n",
    "val_dict = {}\n",
    "\n",
    "# Open the file for reading\n",
    "with open('EmotionsDatasetForNLP/val.txt', 'r') as file:\n",
    "    # Iterate through each line in the file\n",
    "    for line in file:\n",
    "        # Split the line into text and emotion using the semicolon as the delimiter\n",
    "        parts = line.strip().split(';')\n",
    "        \n",
    "        # Check if the line has both text and emotion (not an empty line)\n",
    "        if len(parts) == 2:\n",
    "            text, emotion = parts[0], parts[1]\n",
    "            # Store the data in the dictionary\n",
    "            val_dict[emotion] = text\n",
    "\n",
    "for key in val_dict:\n",
    "    print(key)"
   ]
  },
  {
   "cell_type": "markdown",
   "id": "ccc0f79c-feaf-4f6f-b61d-d423ed804ee2",
   "metadata": {},
   "source": [
    "Secondly, I will process the files in NlpTextEmotionData"
   ]
  },
  {
   "cell_type": "code",
   "execution_count": null,
   "id": "b24f4796-ce2f-47d6-9666-c902c580514b",
   "metadata": {},
   "outputs": [],
   "source": [
    "import csv\n",
    "\n"
   ]
  }
 ],
 "metadata": {
  "kernelspec": {
   "display_name": "Python 3 (ipykernel)",
   "language": "python",
   "name": "python3"
  },
  "language_info": {
   "codemirror_mode": {
    "name": "ipython",
    "version": 3
   },
   "file_extension": ".py",
   "mimetype": "text/x-python",
   "name": "python",
   "nbconvert_exporter": "python",
   "pygments_lexer": "ipython3",
   "version": "3.9.9"
  }
 },
 "nbformat": 4,
 "nbformat_minor": 5
}
